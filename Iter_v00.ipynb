{
 "cells": [
  {
   "cell_type": "code",
   "execution_count": 1,
   "id": "5947ce06-f773-4ed5-97c0-18082b587f6f",
   "metadata": {},
   "outputs": [],
   "source": [
    "import numpy as np\n",
    "\n",
    "import matplotlib.pyplot as plt\n",
    "#from scipy.integrate import odeint\n",
    "#import mpmath as mpmath\n",
    "#from scipy.optimize import linear_sum_assignment  # Hungarian algorithm \n",
    "import scipy\n",
    "\n",
    "plt.rc('text', usetex=True)\n",
    "\n",
    "# %matpnlotlib notebook \n",
    "%matplotlib inline \n",
    "\n",
    "import Husimi   # Quantum routines is used here! Uprop2 routine\n",
    "#import Harp     # Classical integration routines\n",
    "import importlib  # for reloading routines if you need to edit them\n",
    "\n",
    "import pickle  # for storing python classes in binary files \n"
   ]
  },
  {
   "cell_type": "code",
   "execution_count": null,
   "id": "38223ba6-a386-4a58-847d-f866f90bb691",
   "metadata": {},
   "outputs": [],
   "source": [
    "importlib.reload(Husimi)  # if you need to reload it!"
   ]
  },
  {
   "cell_type": "code",
   "execution_count": 2,
   "id": "9e36ca44-82a4-48ba-aeee-246706e55d64",
   "metadata": {},
   "outputs": [],
   "source": [
    "froot = 'Iter0_'\n",
    "muprime = r'$\\mu$' + '\\''\n",
    "twopi=2*np.pi"
   ]
  },
  {
   "cell_type": "code",
   "execution_count": 84,
   "id": "10fbdd22-1954-4f9f-8e74-df385eec9433",
   "metadata": {},
   "outputs": [],
   "source": [
    "# given desired min and max values for the histogram, and a maximum value of a list\n",
    "# give us a set of bins good for a np histogram\n",
    "# add the maximum of a list onto the bin array, useful for making histograms without truncation\n",
    "def mkbinsarr(zmin,zmax,nbins,max_zlist):\n",
    "    bins_arr = np.linspace(zmin,zmax,nbins)\n",
    "    #max_zlist = np.max(zlist1)\n",
    "    max_bin = max(max_zlist,zmax) + 0.01\n",
    "    bins_arr = np.append(bins_arr,max_bin) \n",
    "    return bins_arr\n",
    "\n",
    "# compute means, standard deviations and standard errors of a list of values \n",
    "def perrs(zlist,prefix=''):\n",
    "    N_z = len(zlist)\n",
    "    mm_1 = np.mean(zlist); sig_1 = np.std(zlist); std_err_1 = sig_1/np.sqrt(N_z)\n",
    "    print(prefix,\"mean z ={:.3f} += {:.3f}, std z = {:.2f}\".format(mm_1, std_err_1, sig_1 ))\n",
    "    \n",
    "    z2list = zlist**2  # take the square for computing means k=2\n",
    "    mm_2 = np.mean(z2list); sig_2 = np.std(z2list); std_err_2 = sig_2/np.sqrt(N_z)\n",
    "    print(prefix,\"mean z2 ={:.3f} += {:.3f}, std z2 = {:.2f}\".format(mm_2, std_err_2, sig_2 ))\n",
    "    \n",
    "    z3list = zlist**3  # take the cube for computing means k=3\n",
    "    mm_3 = np.mean(z3list); sig_3 = np.std(z3list); std_err_3 = sig_3/np.sqrt(N_z)\n",
    "    print(prefix,\"mean z3 ={:.3f} += {:.3f}, std z3 = {:.2f}\".format(mm_3, std_err_3, sig_3 ))\n",
    "    mms = np.array([mm_1,mm_2,mm_3])\n",
    "    sigs = np.array([sig_1,sig_2,sig_3])\n",
    "    std_errs = np.array([std_err_1,std_err_2,std_err_3])\n",
    "    return mms,sigs,std_errs\n",
    "    \n",
    "def plt1zhist(zlist,xmax):\n",
    "    #xmax = 10\n",
    "    bins_arr  = mkbinsarr(0,xmax,100,np.max(zlist))\n",
    "    fig,ax = plt.subplots(1,1,figsize=(3.2,3.0),dpi=300)\n",
    "    plt.subplots_adjust(hspace=0,wspace=0,left=0.15,right=0.98,top=0.98,bottom =0.15)\n",
    "    ax.set_xlim([-0.05,xmax*0.99])\n",
    "    style4 = {'facecolor': 'cyan',  'edgecolor': 'cyan', 'linewidth': 2.5, 'linestyle':'dotted'}\n",
    "    ax.hist(zlist   ,bins=bins_arr,density=True,alpha=0.8,cumulative=True,label=r'$$',histtype='step',**style4)\n",
    "    xarr = np.linspace(0,xmax,100)\n",
    "    yarr = 1 - np.exp(-xarr)\n",
    "    ylabel = r'1-$e^{-x}$'\n",
    "    handles = []\n",
    "    llw, = ax.plot(xarr,yarr,'k-',lw=0.5,alpha=0.7,label=ylabel)\n",
    "    handles.append(llw)\n",
    "    second_legend = ax.legend(handles = handles, borderpad=0.25,handlelength=0.8,handletextpad=0.25,fontsize=15,labelspacing=0.05,\\\n",
    "                         loc = 'upper left')\n",
    "\n",
    "    plt.show()\n",
    "\n",
    "\n",
    "  "
   ]
  },
  {
   "cell_type": "code",
   "execution_count": 91,
   "id": "75fe2588-32f6-4024-ac11-b4037aa24c33",
   "metadata": {},
   "outputs": [],
   "source": [
    "# class to create pseudorandom floquet systsems\n",
    "class rec_cls():\n",
    "    def __init__(self,N,a,b,eps,mu,mup,taushift,phishift,db,deps,dmu,dmup,dphi,dtau,varlist,seed = None):\n",
    "        self.N = N  # dimension\n",
    "        self.ntau = N*4  # relevant for Trotterization \n",
    "        self.a = a   # baseline values of parameters in hamiltonian \n",
    "        self.b = b\n",
    "        self.eps = eps\n",
    "        self.mu = mu\n",
    "        self.mup= mup\n",
    "        self.taushift = taushift\n",
    "        self.phishift = phishift\n",
    "\n",
    "        # ranges if uniform distributions used \n",
    "        self.db = db  # the range is [b ,b+db]\n",
    "        self.deps = deps  # the range is [eps, eps+deps]\n",
    "        self.dmu = dmu\n",
    "        self.dmup = dmup\n",
    "        self.dtau = dtau\n",
    "        self.dphi = dphi\n",
    "\n",
    "        self.varlist = varlist   # list of strings to choose type of pseudorandom generator \n",
    "        self.nvars = len(varlist)  # numbers of dimensions of choices \n",
    "\n",
    "        if (seed != None):\n",
    "            self.rs = np.random.RandomState(seed)\n",
    "        else:\n",
    "            self.rs = None\n",
    "\n",
    "        # the list of strings varlist \n",
    "        # each string in the list has two letters. \n",
    "        # the first letter is D or C, \n",
    "        #  D for discrete, C for continuous variation distributions \n",
    "        # the second letter is \n",
    "        #  b for varying b \n",
    "        #  t for varying tau\n",
    "        #  p for varying phi\n",
    "        #  m for varying mu\n",
    "        #  r for varying muprime\n",
    "        #  e for varying epsilon\n",
    "        # if there are continuous variations then the variables dp,deps, dmu,dmup dtau,dphi give ranges\n",
    "        # otherwise values 2 pi j/N  all j are used for discrete choices of angles \n",
    "\n",
    "    def randj(self,m): # return a randomly selected integer in 0 to and including m-1\n",
    "        if (self.rs != None):\n",
    "            j = scipy.stats.randint.rvs(0,m,random_state=self.rs)\n",
    "        else:\n",
    "            j = scipy.stats.randint.rvs(0,m)\n",
    "        return j\n",
    "\n",
    "    def randuni(self,xmax):  # return a uniform distribution from 0 to xmax \n",
    "        if (self.rs != None):\n",
    "            x = scipy.stats.uniform.rvs(loc=0, scale=xmax, random_state=self.rs)\n",
    "        else:\n",
    "            x = scipy.stats.uniform.rvs(loc=0, scale=xmax)\n",
    "        return x\n",
    "\n",
    "    # generate a single randomly chosen Floquet propagator \n",
    "    def gen1(self):\n",
    "        b = self.b \n",
    "        taushift = self.taushift\n",
    "        phishift = self.phishift\n",
    "        mu = self.mu\n",
    "        mup = self.mup\n",
    "        eps = self.eps\n",
    "        for k in range(self.nvars):\n",
    "            fval = varlist[k][0]  # firstletter \n",
    "            sval = varlist[k][1]  # second letter \n",
    "            \n",
    "            if (fval == 'D'):  # discrete varying \n",
    "                j = self.randj(self.N)  # choose a random integer\n",
    "                if (sval == 'b'): # we vary b\n",
    "                    b+=  twopi*j/self.N\n",
    "                elif (sval == 't'): # we vary tau0\n",
    "                    taushift += twopi*j/self.N\n",
    "                elif (sval == 'p'): # we vary phi0\n",
    "                    phishift += twopi*j/self.N\n",
    "            elif (fval == 'C'):  # continous varying \n",
    "                if (sval == 'b'): # we vary b\n",
    "                    b += self.randuni(self.db)\n",
    "                elif (sval == 'm'): # we vary mu\n",
    "                    mu += self.randuni(self.dmu)\n",
    "                elif (sval == 'r'): # we vary mup\n",
    "                    mup += self.randuni(self.dmup)\n",
    "                elif (sval == 'p'):  # vary phishift \n",
    "                    phishift += self.randuni(self.dphi)\n",
    "                elif (sval == 't'):  # vary taushift \n",
    "                    taushift += self.randuni(self.dtau)\n",
    "                elif (sval == 'e'):  # vary eps\n",
    "                    eps += self.randuni(self.deps)\n",
    "                else:\n",
    "                    print('varlist err not bmrpte')\n",
    "            else:\n",
    "                print('varlist err not D or C')\n",
    "\n",
    "        # finally make the Floquet propagator\n",
    "        w,vr,U = Husimi.U_prop2(self.N,self.ntau,self.a,b,eps,mu,mup,taushift,phishift=phishift) \n",
    "        return U\n",
    "            \n",
    "    # compute a list of |tr UV^dagger|^2 where U,V are generated randomly \n",
    "    # Nu is the number of z values to generate \n",
    "    def genzlist(self,Nu):\n",
    "        zlist = np.zeros(Nu)  # storing zs \n",
    "        for k in range(Nu):\n",
    "            U1 = self.gen1()  # randomly choosing a matrix \n",
    "            U2 = self.gen1()\n",
    "            U2_dagger = U2.conjugate().T\n",
    "            zt = np.trace(np.matmul(U1,U2_dagger))\n",
    "            z = np.absolute(zt)**2  # |tr UV^dagger}|^2\n",
    "            #print(zt)\n",
    "            zlist[k] = z\n",
    "        mms,sigs,std_errs  = perrs(zlist)  # print out stats \n",
    "        self.mms = mms # these are for k=1,2,3 and are numerically measured frame potentials\n",
    "        self.sigs = sigs\n",
    "        self.std_errs = std_errs\n",
    "        return zlist  # return the zlist\n",
    "\n",
    "#U = fl_a.gen1()\n",
    "\n",
    "# control class making Haar random stats\n",
    "class Ha_control():\n",
    "    def __init__(self,N,seed=None):\n",
    "        self.N = N\n",
    "        if (seed != None): \n",
    "            self.rs = np.random.RandomState(seed)\n",
    "        else:\n",
    "            self.rs = None\n",
    "            \n",
    "    def gen1(self):\n",
    "        if (self.rs != None):\n",
    "            U_Ha = scipy.stats.unitary_group.rvs(self.N,random_state=self.rs) # single matrix, randomly chosen from Haar\n",
    "        else:\n",
    "            U_Ha = scipy.stats.unitary_group.rvs(self.N) # single matrix, randomly chosen from Haar\n",
    "        return U_Ha\n",
    "        \n",
    "    # compute a list of |tr UV^dagger|^2 where U,V are generated randomly \n",
    "    # Nu is the number of z values to generate \n",
    "    def genzlist(self,Nu):\n",
    "        zlist = np.zeros(Nu)  # storing zs \n",
    "        for k in range(Nu):\n",
    "            U1 = self.gen1()  # randomly choosing a matrix \n",
    "            U2 = self.gen1()\n",
    "            U2_dagger = U2.conjugate().T\n",
    "            zt = np.trace(np.matmul(U1,U2_dagger))\n",
    "            z = np.absolute(zt)**2  # |tr UV^dagger}|^2\n",
    "            #print(zt)\n",
    "            zlist[k] = z\n",
    "        mms,sigs,std_errs  = perrs(zlist)  # print out stats \n",
    "        self.mms = mms # these are for k=1,2,3 and are numerically measured frame potentials\n",
    "        self.sigs = sigs\n",
    "        self.std_errs = std_errs\n",
    "        return zlist  # return the zlist"
   ]
  },
  {
   "cell_type": "code",
   "execution_count": 231,
   "id": "1a5835c7-ea79-41c7-af2a-131019c78fbf",
   "metadata": {},
   "outputs": [],
   "source": [
    "# class for making pseudorandom drifted systems\n",
    "class drft_cls():\n",
    "    def __init__(self,N,parms0,d_parms,tau0,phishift,nperiods,Delta_parms0,Delta_d_parms,dtau,dphi,varlist,seed = None):\n",
    "\n",
    "        self.N = N\n",
    "        self.parms0 = parms0  # baselines  parms0 = [a,b,eps,mu,mup] \n",
    "        self.d_parms = d_parms  # drift parms not per period \n",
    "        # end parameters are parms0 + d_parms*twopi*n_periods\n",
    "        self.tau0 = tau0\n",
    "        self.phishift = phishift\n",
    "        self.nperiods = nperiods\n",
    "        self.ntau = 4*N\n",
    "\n",
    "        self.Delta_parms0 = Delta_parms0  # range of parms0 if they are varied \n",
    "        self.Delta_d_parms = Delta_d_parms  # range of d_parms if they are varied \n",
    "\n",
    "        self.endparms = self.parms0 + self.d_parms*twopi*self.nperiods\n",
    "        self.endparms_max = self.parms0 + self.Delta_parms0 + (self.d_parms + self.Delta_d_parms)*twopi*self.nperiods\n",
    "        print('endparms', self.endparms)\n",
    "        print('endparms max', self.endparms_max)\n",
    "\n",
    "        self.dtau = dtau\n",
    "        self.dphi = dphi\n",
    "\n",
    "        self.varlist = varlist   # list of strings to choose type of pseudorandom generator \n",
    "        self.nvars = len(varlist)  # numbers of dimensions of choices \n",
    "\n",
    "        if (seed != None):\n",
    "            self.rs = np.random.RandomState(seed)\n",
    "        else:\n",
    "            self.rs = None\n",
    "\n",
    "    def randj(self,m): # return a randomly selected integer in 0 to and including m-1\n",
    "        if (self.rs != None):\n",
    "            j = scipy.stats.randint.rvs(0,m,random_state=self.rs)\n",
    "        else:\n",
    "            j = scipy.stats.randint.rvs(0,m)\n",
    "        return j\n",
    "\n",
    "    def randuni(self,xmax):  # return a uniform distribution from 0 to xmax \n",
    "        if (self.rs != None):\n",
    "            x = scipy.stats.uniform.rvs(loc=0, scale=xmax, random_state=self.rs)\n",
    "        else:\n",
    "            x = scipy.stats.uniform.rvs(loc=0, scale=xmax)\n",
    "        return x\n",
    "  \n",
    "    # generate a single pseudorandom unitary \n",
    "    def gen1(self):\n",
    "        parms0 = np.copy(self.parms0)\n",
    "        d_parms = np.copy(self.d_parms)\n",
    "        tau0 = self.tau0\n",
    "        phishift = self.phishift\n",
    "\n",
    "        for k in range(self.nvars):\n",
    "            fval = varlist[k][0]  # first letter of string\n",
    "            if (fval == 'D'):  # discrete varying of phases \n",
    "                sval = varlist[k][1]  # second letter \n",
    "                j = self.randj(self.N)  # choose a random integer\n",
    "                if (sval == 'b'): # we vary b\n",
    "                    parms0[1] +=  twopi*j/self.N\n",
    "                elif (sval == 't'): # we vary tau0\n",
    "                    tau0 += twopi*j/self.N\n",
    "                elif (sval == 'p'): # we vary phi0\n",
    "                    phishift += twopi*j/self.N\n",
    "                else:\n",
    "                    print('varlist err not in D followed by btp')\n",
    "            elif (fval == 'C'):  # continous varying, uniform distributions done all at once \n",
    "                for j in range(5):\n",
    "                    xmax = self.Delta_parms0[j]    # uniform distn in initial values\n",
    "                    if (xmax >0):\n",
    "                        parms0[j] += self.randuni(xmax)\n",
    "                    ymax = self.Delta_d_parms[j]   # uniform distrn in drift parms\n",
    "                    if (ymax >0):\n",
    "                        d_parms[j] += self.randuni(ymax)\n",
    "                if (self.dtau >0):\n",
    "                    tau0 += self.randuni(self.dtau)\n",
    "                if (self.dphi >0):\n",
    "                    phishift += self.randuni(self.dphi)\n",
    "            else:\n",
    "                print('varlist err not D or C')\n",
    "\n",
    "        # finally make the drifted propagator\n",
    "        w_var,vr_var,U_var = Husimi.U_prop2_var(self.N,self.ntau,parms0,d_parms,tau0,self.nperiods,phishift=phishift)\n",
    "        return U_var \n",
    "\n",
    "    # compute a list of |tr UV^dagger|^2 where U,V are generated randomly using gen1\n",
    "    # Nu is the number of z values to generate \n",
    "    def genzlist(self,Nu):\n",
    "        zlist = np.zeros(Nu)  # storing zs \n",
    "        for k in range(Nu):\n",
    "            U1 = self.gen1()  # randomly choosing a matrix \n",
    "            U2 = self.gen1()\n",
    "            U2_dagger = U2.conjugate().T\n",
    "            zt = np.trace(np.matmul(U1,U2_dagger))\n",
    "            z = np.absolute(zt)**2  # |tr UV^dagger}|^2\n",
    "            #print(zt)\n",
    "            zlist[k] = z\n",
    "        mms,sigs,std_errs  = perrs(zlist)  # print out stats \n",
    "        self.mms = mms  # these are for k=1,2,3 and are numerically measured frame potentials\n",
    "        self.sigs = sigs\n",
    "        self.std_errs = std_errs\n",
    "        return zlist  # return the zlist\n",
    "\n",
    "#vr_a.gen1()"
   ]
  },
  {
   "cell_type": "code",
   "execution_count": 361,
   "id": "64056295-7dfa-4c78-af13-d383b1495b70",
   "metadata": {},
   "outputs": [
    {
     "name": "stdout",
     "output_type": "stream",
     "text": [
      " mean z =1.003 += 0.016, std z = 0.99\n",
      " mean z2 =1.989 += 0.068, std z2 = 4.28\n",
      " mean z3 =5.792 += 0.378, std z3 = 23.90\n"
     ]
    }
   ],
   "source": [
    "# Harr random list control \n",
    "N=51\n",
    "control_a = Ha_control(N,seed=5123)\n",
    "Nu = 4000\n",
    "zlist_Ha = control_a.genzlist(Nu)\n",
    "control_a.label = 'Haar'"
   ]
  },
  {
   "cell_type": "code",
   "execution_count": null,
   "id": "9cb6b5f1-6eb9-4d4f-8d5f-ad716f58f4b0",
   "metadata": {},
   "outputs": [],
   "source": [
    "# Floquet samplers below!"
   ]
  },
  {
   "cell_type": "code",
   "execution_count": 360,
   "id": "afb1e26a-5d47-44fc-9c86-8b30624ce554",
   "metadata": {},
   "outputs": [
    {
     "name": "stdout",
     "output_type": "stream",
     "text": [
      " mean z =3.333 += 1.129, std z = 71.42\n",
      " mean z2 =5112.482 += 2928.356, std z2 = 185205.48\n",
      " mean z3 =13203873.585 += 7616556.145, std z3 = 481713306.92\n"
     ]
    }
   ],
   "source": [
    "N=51; a = 3; b=0.0; eps = 3.1; mu = 3; mup = 3.1;taushift=0.0;phishift=0.0;\n",
    "db = twopi; deps = 0.0; dmu= 0.0; dmup= 0.0; dphi=twopi; dtau = twopi; \n",
    "varlist = ['Db','Dp'] # discrete variations in b and phi\n",
    "fl_a2 = rec_cls(N,a,b,eps,mu,mup,taushift,phishift,db,deps,dmu,dmup,dphi,dtau,varlist,seed = 200)  # still big!\n",
    "Nu = 4000\n",
    "zlist_a2 = fl_a2.genzlist(Nu) \n",
    "fl_a2.label =  r'D$b\\phi$'"
   ]
  },
  {
   "cell_type": "code",
   "execution_count": 359,
   "id": "7677861e-f037-47b0-ab51-e1d5e617ef48",
   "metadata": {},
   "outputs": [
    {
     "name": "stdout",
     "output_type": "stream",
     "text": [
      " mean z =1.439 += 0.071, std z = 4.50\n",
      " mean z2 =22.308 += 10.255, std z2 = 648.61\n",
      " mean z3 =2661.555 += 1725.791, std z3 = 109148.59\n"
     ]
    }
   ],
   "source": [
    "# floquet \n",
    "N=51; a = 3; b=0.0; eps = 3.1; mu = 3; mup = 3.1;taushift=0.0;phishift=0.0;\n",
    "db = twopi; deps = 0.0; dmu= 0.0; dmup= 0.0; dphi=twopi; dtau = twopi;  # random variations \n",
    "varlist = ['Db','Dt'] # discrete variations in b and tau\n",
    "fl_a = rec_cls(N,a,b,eps,mu,mup,taushift,phishift,db,deps,dmu,dmup,dphi,dtau,varlist,seed = 1)\n",
    "Nu = 4000\n",
    "zlist_a = fl_a.genzlist(Nu) # \n",
    "fl_a.label = r'D$b\\tau$' "
   ]
  },
  {
   "cell_type": "code",
   "execution_count": 358,
   "id": "8720d7ab-fbda-4c72-b77c-94f7f70c534f",
   "metadata": {},
   "outputs": [
    {
     "name": "stdout",
     "output_type": "stream",
     "text": [
      " mean z =1.345 += 0.028, std z = 1.75\n",
      " mean z2 =4.880 += 0.552, std z2 = 34.90\n",
      " mean z3 =53.127 += 17.819, std z3 = 1126.99\n"
     ]
    }
   ],
   "source": [
    "N=51; a = 3; b=0.0; eps = 3.1; mu = 3; mup = 3.1;taushift=0.0;phishift=0.0;\n",
    "db = twopi; deps = 0.0; dmu= 0.0; dmup= 0.0; dphi=twopi; dtau = twopi; \n",
    "varlist = ['Cb','Cp']  # continous variations in b, phi\n",
    "Nu = 4000\n",
    "fl_c = rec_cls(N,a,b,eps,mu,mup,taushift,phishift,db,deps,dmu,dmup,dphi,dtau,varlist,seed = 14)\n",
    "zlist_c = fl_c.genzlist(Nu) # \n",
    "fl_c.label =r'C$b\\phi$'\n"
   ]
  },
  {
   "cell_type": "code",
   "execution_count": 356,
   "id": "5df71ecd-479f-428c-ac26-e625d6a697bd",
   "metadata": {},
   "outputs": [
    {
     "name": "stdout",
     "output_type": "stream",
     "text": [
      " mean z =1.323 += 0.063, std z = 3.99\n",
      " mean z2 =17.705 += 11.850, std z2 = 749.48\n",
      " mean z3 =2703.464 += 2554.951, std z3 = 161589.31\n"
     ]
    }
   ],
   "source": [
    "N=51; a = 3; b=0.0; eps = 3.1; mu = 3; mup = 3.1;taushift=0.0;phishift=0.0;\n",
    "db = twopi; deps = 0.0; dmu= 0.0; dmup= 0.0; dphi=twopi; dtau = twopi; \n",
    "varlist = ['Cb','Ct'] # continous variations in b, tau\n",
    "Nu = 4000\n",
    "fl_b = rec_cls(N,a,b,eps,mu,mup,taushift,phishift,db,deps,dmu,dmup,dphi,dtau,varlist,seed = 7)  # was 6 at 2000\n",
    "zlist_b = fl_b.genzlist(Nu) # \n",
    "fl_b.label = r'C$b\\tau$'\n"
   ]
  },
  {
   "cell_type": "code",
   "execution_count": 353,
   "id": "70592635-3bb0-49bd-b3a0-ce04855da24b",
   "metadata": {},
   "outputs": [
    {
     "name": "stdout",
     "output_type": "stream",
     "text": [
      " mean z =1.172 += 0.032, std z = 2.05\n",
      " mean z2 =5.584 += 1.345, std z2 = 85.06\n",
      " mean z3 =145.428 += 81.926, std z3 = 5181.49\n"
     ]
    }
   ],
   "source": [
    "N=51; a = 3; b=0.0; eps = 3.1; mu = 3; mup = 3.1;taushift=0.0;phishift=0.0;\n",
    "db = twopi; deps = 0.0; dmu= 3.0; dmup= 0.0; dphi=twopi; dtau = twopi; \n",
    "varlist = ['Ct','Cm'] # continous variations in tau and mu\n",
    "Nu = 4000\n",
    "fl_c2 = rec_cls(N,a,b,eps,mu,mup,taushift,phishift,db,deps,dmu,dmup,dphi,dtau,varlist,seed = 1255)\n",
    "zlist_c2 = fl_c2.genzlist(Nu)  #\n",
    "fl_c2.label = r'C$\\tau\\mu$'\n"
   ]
  },
  {
   "cell_type": "code",
   "execution_count": 350,
   "id": "94830b25-d95d-4d99-80cf-3f29152a555c",
   "metadata": {},
   "outputs": [
    {
     "name": "stdout",
     "output_type": "stream",
     "text": [
      " mean z =1.017 += 0.016, std z = 1.02\n",
      " mean z2 =2.071 += 0.070, std z2 = 4.41\n",
      " mean z3 =6.200 += 0.357, std z3 = 22.57\n"
     ]
    }
   ],
   "source": [
    "N=51; a = 3; b=0.0; eps = 3.1; mu = 3; mup = 3.1;taushift=0.0;phishift=0.0;\n",
    "db = twopi; deps = 0.0; dmu= 3.0; dmup= 0.0; dphi=twopi; dtau = twopi; \n",
    "varlist = ['Cb','Cp','Cm'] # continous variations in b, phi and mu\n",
    "Nu = 4000\n",
    "fl_e = rec_cls(N,a,b,eps,mu,mup,taushift,phishift,db,deps,dmu,dmup,dphi,dtau,varlist,seed = 115)\n",
    "zlist_e = fl_e.genzlist(Nu) # \n",
    "fl_e.label = r'C$b\\phi\\mu$'\n"
   ]
  },
  {
   "cell_type": "code",
   "execution_count": 351,
   "id": "ad28fd66-8cff-4ac8-a8f2-4929520c2910",
   "metadata": {},
   "outputs": [
    {
     "name": "stdout",
     "output_type": "stream",
     "text": [
      " mean z =1.038 += 0.017, std z = 1.09\n",
      " mean z2 =2.271 += 0.124, std z2 = 7.86\n",
      " mean z3 =8.782 += 2.026, std z3 = 128.15\n"
     ]
    }
   ],
   "source": [
    "N=51; a = 3; b=0.0; eps = 3.1; mu = 3; mup = 3.1;taushift=0.0;phishift=0.0;\n",
    "db = twopi; deps = 0.0; dmu= 3.0; dmup= 0.0; dphi=twopi; dtau = twopi; \n",
    "varlist = ['Cb','Ct','Cm'] # continous variations in b, tau and mu\n",
    "Nu = 4000\n",
    "fl_d = rec_cls(N,a,b,eps,mu,mup,taushift,phishift,db,deps,dmu,dmup,dphi,dtau,varlist,seed = 15)\n",
    "zlist_d = fl_d.genzlist(Nu) #\n",
    "fl_d.label = r'C$b\\tau\\mu$'\n"
   ]
  },
  {
   "cell_type": "code",
   "execution_count": 352,
   "id": "e8fc5cb5-3086-480b-b917-f264222c109a",
   "metadata": {},
   "outputs": [
    {
     "name": "stdout",
     "output_type": "stream",
     "text": [
      " mean z =1.021 += 0.016, std z = 1.00\n",
      " mean z2 =2.034 += 0.065, std z2 = 4.09\n",
      " mean z3 =5.810 += 0.302, std z3 = 19.10\n"
     ]
    }
   ],
   "source": [
    "N=51; a = 3; b=0.0; eps = 3.1; mu = 3; mup = 3.1;taushift=0.0;phishift=0.0;\n",
    "db = twopi; deps = 0.0; dmu= 3.0; dmup= 2.0; dphi=twopi; dtau = twopi; \n",
    "varlist = ['Cb','Ct','Cm','Cr']  # continuous variations in b, tau, mu and muprime\n",
    "Nu = 4000\n",
    "fl_f = rec_cls(N,a,b,eps,mu,mup,taushift,phishift,db,deps,dmu,dmup,dphi,dtau,varlist,seed = 1233)\n",
    "zlist_f = fl_f.genzlist(Nu) # \n",
    "fl_f.label = r'C$_1b\\tau\\mu$' + muprime \n"
   ]
  },
  {
   "cell_type": "code",
   "execution_count": 363,
   "id": "9d8f6aef-64e6-4e5d-918c-1c0d947d7d3d",
   "metadata": {},
   "outputs": [
    {
     "name": "stdout",
     "output_type": "stream",
     "text": [
      " mean z =0.998 += 0.017, std z = 1.06\n",
      " mean z2 =2.120 += 0.092, std z2 = 5.79\n",
      " mean z3 =7.356 += 0.780, std z3 = 49.36\n"
     ]
    }
   ],
   "source": [
    "# check lower N, even \n",
    "N=30; a = 3; b=0.0; eps = 3.1; mu = 3; mup = 3.1;taushift=0.0;phishift=0.0;\n",
    "db = twopi; deps = 0.0; dmu= 3.0; dmup= 2.0; dphi=twopi; dtau = twopi; \n",
    "varlist = ['Cb','Ct','Cm','Cr']  # continuous variations in b, tau, mu and muprime\n",
    "Nu = 4000\n",
    "fl_h = rec_cls(N,a,b,eps,mu,mup,taushift,phishift,db,deps,dmu,dmup,dphi,dtau,varlist,seed = 1033)\n",
    "zlist_h = fl_h.genzlist(Nu) # \n",
    "fl_h.label = r'C$_2b\\tau\\mu$' + muprime \n"
   ]
  },
  {
   "cell_type": "code",
   "execution_count": 378,
   "id": "a700faa6-09a6-4207-bba9-7e812870d381",
   "metadata": {},
   "outputs": [
    {
     "name": "stdout",
     "output_type": "stream",
     "text": [
      " mean z =1.042 += 0.017, std z = 1.06\n",
      " mean z2 =2.218 += 0.087, std z2 = 5.52\n",
      " mean z3 =7.419 += 0.646, std z3 = 40.87\n"
     ]
    }
   ],
   "source": [
    "# check lower N, odd \n",
    "N=31; a = 3; b=0.0; eps = 3.1; mu = 3; mup = 3.1;taushift=0.0;phishift=0.0;\n",
    "db = twopi; deps = 0.0; dmu= 3.0; dmup= 2.0; dphi=twopi; dtau = twopi; \n",
    "varlist = ['Cb','Ct','Cm','Cr']  # continuous variations in b, tau, mu and muprime\n",
    "Nu = 4000\n",
    "fl_h2 = rec_cls(N,a,b,eps,mu,mup,taushift,phishift,db,deps,dmu,dmup,dphi,dtau,varlist,seed = 1033)\n",
    "zlist_h2 = fl_h2.genzlist(Nu) # \n",
    "fl_h2.label = r'C$_2b\\tau\\mu$' + muprime  # no difference so not needed!"
   ]
  },
  {
   "cell_type": "code",
   "execution_count": 362,
   "id": "39f199fb-0040-4533-af74-a5eefbabdf42",
   "metadata": {},
   "outputs": [
    {
     "name": "stdout",
     "output_type": "stream",
     "text": [
      " mean z =1.007 += 0.017, std z = 1.06\n",
      " mean z2 =2.141 += 0.106, std z2 = 6.69\n",
      " mean z3 =7.723 += 1.389, std z3 = 87.85\n"
     ]
    }
   ],
   "source": [
    "# check higher N, even \n",
    "N=70; a = 3; b=0.0; eps = 3.1; mu = 3; mup = 3.1;taushift=0.0;phishift=0.0;\n",
    "db = twopi; deps = 0.0; dmu= 3.0; dmup= 2.0; dphi=twopi; dtau = twopi; \n",
    "varlist = ['Cb','Ct','Cm','Cr']  # continuous variations in b, tau, mu and muprime\n",
    "Nu = 4000\n",
    "fl_i = rec_cls(N,a,b,eps,mu,mup,taushift,phishift,db,deps,dmu,dmup,dphi,dtau,varlist,seed = 19033)\n",
    "zlist_i = fl_i.genzlist(Nu) # \n",
    "fl_i.label = r'C$_3b\\tau\\mu$' + muprime \n"
   ]
  },
  {
   "cell_type": "code",
   "execution_count": 397,
   "id": "3ec377f4-d08f-4d52-ae44-89d5c87e5951",
   "metadata": {},
   "outputs": [
    {
     "name": "stdout",
     "output_type": "stream",
     "text": [
      " mean z =1.186 += 0.022, std z = 1.38\n",
      " mean z2 =3.304 += 0.258, std z2 = 16.29\n",
      " mean z3 =20.630 += 5.611, std z3 = 354.88\n"
     ]
    }
   ],
   "source": [
    "# check like Tb\n",
    "N=51; a = 3; b=0.0; eps = 3.1; mu = 1; mup = 0.0;taushift=0.0;phishift=0.0;\n",
    "db = twopi; deps = 0.0; dmu= 3.0; dmup= 2.0; dphi=twopi; dtau = twopi; \n",
    "varlist = ['Cb','Ct','Cm','Cr']  # continuous variations in b, tau, mu and muprime\n",
    "Nu = 4000\n",
    "fl_g = rec_cls(N,a,b,eps,mu,mup,taushift,phishift,db,deps,dmu,dmup,dphi,dtau,varlist,seed = 5233)\n",
    "zlist_g = fl_g.genzlist(Nu) # \n",
    "fl_g.label = r'C$_4b\\tau\\mu$' + muprime "
   ]
  },
  {
   "cell_type": "code",
   "execution_count": 394,
   "id": "3bf770c4-2b56-494b-83c3-85a08e053bae",
   "metadata": {},
   "outputs": [
    {
     "name": "stdout",
     "output_type": "stream",
     "text": [
      " mean z =1.016 += 0.016, std z = 0.99\n",
      " mean z2 =2.019 += 0.070, std z2 = 4.40\n",
      " mean z3 =5.934 += 0.423, std z3 = 26.73\n"
     ]
    },
    {
     "ename": "NameError",
     "evalue": "name 'fl_i1' is not defined",
     "output_type": "error",
     "traceback": [
      "\u001b[0;31m---------------------------------------------------------------------------\u001b[0m",
      "\u001b[0;31mNameError\u001b[0m                                 Traceback (most recent call last)",
      "Cell \u001b[0;32mIn[394], line 8\u001b[0m\n\u001b[1;32m      6\u001b[0m fl_i2 \u001b[38;5;241m=\u001b[39m rec_cls(N,a,b,eps,mu,mup,taushift,phishift,db,deps,dmu,dmup,dphi,dtau,varlist,seed \u001b[38;5;241m=\u001b[39m \u001b[38;5;241m192033\u001b[39m)\n\u001b[1;32m      7\u001b[0m zlist_i2 \u001b[38;5;241m=\u001b[39m fl_i2\u001b[38;5;241m.\u001b[39mgenzlist(Nu)  \u001b[38;5;66;03m# \u001b[39;00m\n\u001b[0;32m----> 8\u001b[0m fl_i1\u001b[38;5;241m.\u001b[39mlabel \u001b[38;5;241m=\u001b[39m  \u001b[38;5;124m'\u001b[39m\u001b[38;5;124mnot used\u001b[39m\u001b[38;5;124m'\u001b[39m\n",
      "\u001b[0;31mNameError\u001b[0m: name 'fl_i1' is not defined"
     ]
    }
   ],
   "source": [
    "# check higher N, odd\n",
    "N=71; a = 3; b=0.0; eps = 3.1; mu = 3; mup = 3.1;taushift=0.0;phishift=0.0;\n",
    "db = twopi; deps = 0.0; dmu= 3.0; dmup= 2.0; dphi=twopi; dtau = twopi; \n",
    "varlist = ['Cb','Ct','Cm','Cr']  # continuous variations in b, tau, mu and muprime\n",
    "Nu = 4000\n",
    "fl_i2 = rec_cls(N,a,b,eps,mu,mup,taushift,phishift,db,deps,dmu,dmup,dphi,dtau,varlist,seed = 192033)\n",
    "zlist_i2 = fl_i2.genzlist(Nu)  # \n",
    "fl_i2.label =  'not used'\n",
    "# seems like odd dimensions are systematically lower? I am not sure why!"
   ]
  },
  {
   "cell_type": "code",
   "execution_count": 395,
   "id": "1bdc8810-baf8-4fa4-89eb-8c1ce629b4bd",
   "metadata": {},
   "outputs": [],
   "source": [
    "fl_i2.label =  'not used'"
   ]
  },
  {
   "cell_type": "code",
   "execution_count": 406,
   "id": "1888236e-774b-4345-a02c-fd74a0badea4",
   "metadata": {},
   "outputs": [
    {
     "name": "stdout",
     "output_type": "stream",
     "text": [
      " mean z =4.218 += 0.725, std z = 45.83\n",
      " mean z2 =2118.496 += 1314.057, std z2 = 83108.26\n",
      " mean z3 =3662473.757 += 2607049.987, std z3 = 164884318.68\n"
     ]
    }
   ],
   "source": [
    "# check mu mu' without angles \n",
    "N=51; a = 3; b=0.0; eps = 3.1; mu = 3; mup = 3.1;taushift=0.0;phishift=0.0;\n",
    "db = twopi; deps = 0.0; dmu= 4.0; dmup= 4.0; dphi=twopi; dtau = twopi; \n",
    "varlist = ['Cm','Cr']  # continuous variations in mu and muprime\n",
    "Nu = 4000\n",
    "fl_j = rec_cls(N,a,b,eps,mu,mup,taushift,phishift,db,deps,dmu,dmup,dphi,dtau,varlist,seed = 7333)\n",
    "zlist_j = fl_j.genzlist(Nu) # \n",
    "fl_j.label = r'C$\\mu$' + muprime   "
   ]
  },
  {
   "cell_type": "code",
   "execution_count": null,
   "id": "0be229cf-9c84-4db0-bb8e-0303712bc1a2",
   "metadata": {},
   "outputs": [],
   "source": []
  },
  {
   "cell_type": "code",
   "execution_count": 407,
   "id": "f88d57b6-2bd0-41b7-8f4e-80f26330df5c",
   "metadata": {},
   "outputs": [
    {
     "name": "stdout",
     "output_type": "stream",
     "text": [
      "frame potentials\n",
      "C$\\mu$$\\mu$'  & 4.22 $\\pm$ 0.72 &  2118.50 $\\pm$ 1314.06 &  3662473.76 $\\pm$ 2607049.99 \\\\ \n",
      "D$b\\phi$  & 3.33 $\\pm$ 1.13 &  5112.48 $\\pm$ 2928.36 &  13203873.59 $\\pm$ 7616556.15 \\\\ \n",
      "D$b\\tau$  & 1.44 $\\pm$ 0.07 &  22.31 $\\pm$ 10.26 &  2661.56 $\\pm$ 1725.79 \\\\ \n",
      "C$b\\phi$  & 1.35 $\\pm$ 0.03 &  4.88 $\\pm$ 0.55 &  53.13 $\\pm$ 17.82 \\\\ \n",
      "C$b\\tau$  & 1.32 $\\pm$ 0.06 &  17.71 $\\pm$ 11.85 &  2703.46 $\\pm$ 2554.95 \\\\ \n",
      "C$\\tau\\mu$  & 1.17 $\\pm$ 0.03 &  5.58 $\\pm$ 1.34 &  145.43 $\\pm$ 81.93 \\\\ \n",
      "C$b\\phi\\mu$  & 1.02 $\\pm$ 0.02 &  2.07 $\\pm$ 0.07 &  6.20 $\\pm$ 0.36 \\\\ \n",
      "C$b\\tau\\mu$  & 1.04 $\\pm$ 0.02 &  2.27 $\\pm$ 0.12 &  8.78 $\\pm$ 2.03 \\\\ \n",
      "C$_1b\\tau\\mu$$\\mu$'  & 1.02 $\\pm$ 0.02 &  2.03 $\\pm$ 0.06 &  5.81 $\\pm$ 0.30 \\\\ \n",
      "C$_2b\\tau\\mu$$\\mu$'  & 1.00 $\\pm$ 0.02 &  2.12 $\\pm$ 0.09 &  7.36 $\\pm$ 0.78 \\\\ \n",
      "C$_3b\\tau\\mu$$\\mu$'  & 1.01 $\\pm$ 0.02 &  2.14 $\\pm$ 0.11 &  7.72 $\\pm$ 1.39 \\\\ \n",
      "C$_4b\\tau\\mu$$\\mu$'  & 1.19 $\\pm$ 0.02 &  3.30 $\\pm$ 0.26 &  20.63 $\\pm$ 5.61 \\\\ \n",
      "\n",
      "Haar-control & 1.00 $\\pm$ 0.02 &  1.99 $\\pm$ 0.07 &  5.79 $\\pm$ 0.38 \\\\ \n",
      "varepsilon estimate\n",
      "C$b\\tau\\mu$ & 0.13 & 0.35 & 1.42\n"
     ]
    }
   ],
   "source": [
    "nruns = 12\n",
    "mm_large = np.zeros((nruns,3))\n",
    "stde_large = np.zeros((nruns,3))\n",
    "i=0\n",
    "mm_large[i,:] = fl_j.mms; stde_large[i,:] =  fl_j.std_errs; i+=1\n",
    "mm_large[i,:] =fl_a2.mms; stde_large[i,:] = fl_a2.std_errs; i+=1\n",
    "mm_large[i,:] = fl_a.mms; stde_large[i,:] =  fl_a.std_errs; i+=1\n",
    "mm_large[i,:] = fl_c.mms; stde_large[i,:] =  fl_c.std_errs; i+=1\n",
    "mm_large[i,:] = fl_b.mms; stde_large[i,:] =  fl_b.std_errs; i+=1\n",
    "mm_large[i,:] = fl_c2.mms; stde_large[i,:] =  fl_c2.std_errs; i+=1\n",
    "mm_large[i,:] = fl_e.mms; stde_large[i,:] =  fl_e.std_errs; i+=1\n",
    "mm_large[i,:] = fl_d.mms; stde_large[i,:] =  fl_d.std_errs; i+=1\n",
    "mm_large[i,:] = fl_f.mms; stde_large[i,:] =  fl_f.std_errs; i+=1\n",
    "mm_large[i,:] = fl_h.mms; stde_large[i,:] =  fl_h.std_errs; i+=1\n",
    "mm_large[i,:] = fl_i.mms; stde_large[i,:] =  fl_i.std_errs; i+=1\n",
    "mm_large[i,:] = fl_g.mms; stde_large[i,:] =  fl_g.std_errs; i+=1\n",
    "labels = [\\\n",
    "          fl_j.label,\\\n",
    "          fl_a2.label,\\\n",
    "          fl_a.label,\\\n",
    "          fl_c.label,\\\n",
    "          fl_b.label,\\\n",
    "          fl_c2.label,\\\n",
    "          fl_e.label,\\\n",
    "          fl_d.label,\\\n",
    "          fl_f.label,\\\n",
    "          fl_h.label,\\\n",
    "          fl_i.label,\\\n",
    "          fl_g.label ]\n",
    "\n",
    "          \n",
    "#labels = [\n",
    "#         r'C$b\\mu$' + muprime,\\  7  j\n",
    "#         r'D$b\\phi$',\\ 0  a2 \n",
    "#         r'D$b\\tau$',\\  1   a\n",
    "#         r'C$b\\phi$',\\  2   c\n",
    "#         r'C$b\\tau$',\\  3   b\n",
    "#         r'C$\\tau\\mu$',\\  4   c2\n",
    "#         r'C$b\\phi\\mu$',\\  5  e\n",
    "#         r'C$b\\tau\\mu$',\\  6  d\n",
    "#         r'C$_1b\\tau\\mu$' + muprime,\\  8  f \n",
    "#         r'C$_2b\\tau\\mu$' + muprime,\\  9 h \n",
    "#         r'C$_3b\\tau\\mu$' + muprime,\\  10 i\n",
    "#         r'C$_4b\\tau\\mu$' + muprime ] 11  g\n",
    "\n",
    "print('frame potentials')\n",
    "for i in range(nruns):\n",
    "    print(labels[i], ' & {:.2f} $\\\\pm$ {:.2f} &  {:.2f} $\\\\pm$ {:.2f} &  {:.2f} $\\\\pm$ {:.2f} \\\\\\\\ '.format(\\\n",
    "        mm_large[i,0],stde_large[i,0], \\\n",
    "        mm_large[i,1],stde_large[i,1],\\\n",
    "        mm_large[i,2],stde_large[i,2]))\n",
    "\n",
    "print('')\n",
    "\n",
    "print('Haar-control & {:.2f} $\\\\pm$ {:.2f} &  {:.2f} $\\\\pm$ {:.2f} &  {:.2f} $\\\\pm$ {:.2f} \\\\\\\\ '.format(\\\n",
    "        control_a.mms[0],control_a.std_errs[0], \\\n",
    "        control_a.mms[1],control_a.std_errs[1], \\\n",
    "        control_a.mms[2],control_a.std_errs[2] ))\n",
    "       \n",
    "print('varepsilon estimate')\n",
    "# varepilon estimates \n",
    "i=7  #c1btaumumu'\n",
    "print(labels[i],'& {:.2f} & {:.2f} & {:.2f}'.format( \\\n",
    "    np.sqrt(stde_large[i,0]),np.sqrt(stde_large[i,1]), np.sqrt(stde_large[i,2])))"
   ]
  },
  {
   "cell_type": "code",
   "execution_count": 411,
   "id": "8ef3c480-f5fb-4c88-8563-9945da359871",
   "metadata": {},
   "outputs": [
    {
     "data": {
      "image/png": "[encoded data removed]",
      "text/plain": [
       "<Figure size 1050x900 with 3 Axes>"
      ]
     },
     "metadata": {},
     "output_type": "display_data"
    }
   ],
   "source": [
    "fig,axarr = plt.subplots(3,1,sharex=True,figsize=(3.5,3),dpi=300)\n",
    "plt.subplots_adjust(wspace=0,hspace=0,bottom=0.15,top=0.98,left=0.16,right=0.97)\n",
    "karr = np.arange(nruns)\n",
    "j=0 \n",
    "yvals = np.squeeze( mm_large[:,j])\n",
    "yerrs = np.squeeze( stde_large[:,j])\n",
    "axarr[j].errorbar(karr,yvals,yerr = yerrs,capsize=2.3,fmt='o',ms=3,color='blue')\n",
    "for j in range(1,3):\n",
    "    yvals = np.squeeze( mm_large[:,j])\n",
    "    ylvals = np.log10(yvals)\n",
    "    yerrs = np.squeeze( stde_large[:,j])\n",
    "    yuvals = yvals + yerrs\n",
    "    ybvals = yvals - yerrs\n",
    "    ylu = np.log10(yuvals)\n",
    "    ylb = np.log10(ybvals)\n",
    "    yerr_up = ylu - ylvals \n",
    "    yerr_down = ylvals - ylb\n",
    "    axarr[j].errorbar(karr,ylvals,yerr = [yerr_up,yerr_down],capsize=2.3,fmt='o',ms=3,color='blue')\n",
    "\n",
    "axarr[0].set_xlim([-0.5,max(karr)+1.5])\n",
    "axarr[0].set_ylim([0.95,1.55])\n",
    "axarr[1].set_ylim([0.2,1.03])\n",
    "axarr[2].set_ylim([0.6,2.25])\n",
    "#\n",
    "axarr[0].annotate(\"\", xytext=(0, 1.42), xy=(0, 1.54), arrowprops=dict(arrowstyle=\"->\",ec='blue'))\n",
    "axarr[0].annotate(\"\", xytext=(1, 1.42), xy=(1, 1.54), arrowprops=dict(arrowstyle=\"->\",ec='blue'))\n",
    "#\n",
    "axarr[1].annotate(\"\", xytext=(0, 0.85), xy=(0, 1.01), arrowprops=dict(arrowstyle=\"->\",ec='blue'))\n",
    "axarr[1].annotate(\"\", xytext=(1, 0.85), xy=(1, 1.01), arrowprops=dict(arrowstyle=\"->\",ec='blue'))\n",
    "axarr[1].annotate(\"\", xytext=(2, 0.85), xy=(2, 1.01), arrowprops=dict(arrowstyle=\"->\",ec='blue'))\n",
    "axarr[1].annotate(\"\", xytext=(4, 0.85), xy=(4, 1.01), arrowprops=dict(arrowstyle=\"->\",ec='blue'))\n",
    "#\n",
    "axarr[2].annotate(\"\", xytext=(0, 1.92), xy=(0, 2.23), arrowprops=dict(arrowstyle=\"->\",ec='blue'))\n",
    "axarr[2].annotate(\"\", xytext=(1, 1.92), xy=(1, 2.23), arrowprops=dict(arrowstyle=\"->\",ec='blue'))\n",
    "axarr[2].annotate(\"\", xytext=(2, 1.92), xy=(2, 2.23), arrowprops=dict(arrowstyle=\"->\",ec='blue'))\n",
    "axarr[2].annotate(\"\", xytext=(4, 1.92), xy=(4, 2.23), arrowprops=dict(arrowstyle=\"->\",ec='blue'))\n",
    "xmin,xmax = axarr[0].get_xlim()\n",
    "axarr[0].plot([xmin,xmax],[1,1],'r:')\n",
    "axarr[1].plot([xmin,xmax],[np.log10(2.),np.log10(2.)],'r:')\n",
    "axarr[2].plot([xmin,xmax],[np.log10(6.),np.log10(6.)],'r:')\n",
    "axarr[2].tick_params(axis='x', which='major', pad=1)\n",
    "axarr[2].set_xticks(karr,labels,rotation=-40,ha='left')   \n",
    "axarr[0].set_ylabel(r'${\\mathcal F}^{(1)}$',labelpad=0.1)\n",
    "axarr[1].set_ylabel(r'log$_{10}{\\mathcal F}^{(2)}$',labelpad=0.3)\n",
    "axarr[2].set_ylabel(r'log$_{10}{\\mathcal F}^{(3)}$')\n",
    "axarr[0].annotate('Haar',xytext=(0,1.02),xy=(0,1),color='red',fontsize=10)\n",
    "plt.savefig(froot+'fp_fl2.png')\n",
    "plt.show()"
   ]
  },
  {
   "cell_type": "code",
   "execution_count": null,
   "id": "a6df7acf-7581-49b5-ab06-1355b22b3d49",
   "metadata": {},
   "outputs": [],
   "source": []
  },
  {
   "cell_type": "code",
   "execution_count": null,
   "id": "80b2d954-b849-44dc-8f1b-a0f9d6e5fc06",
   "metadata": {},
   "outputs": [],
   "source": [
    "### Drifting variants! # don't really care about discrete b values "
   ]
  },
  {
   "cell_type": "code",
   "execution_count": 319,
   "id": "b4da5322-b913-47ab-9d3e-7e163daf1e95",
   "metadata": {},
   "outputs": [
    {
     "name": "stdout",
     "output_type": "stream",
     "text": [
      "endparms [3.         0.         3.01       2.88495559 3.32743339]\n",
      "endparms max [ 3.          1.88495559  3.01       12.30973355  3.32743339]\n",
      " mean z =1.260 += 0.085, std z = 3.79\n",
      " mean z2 =15.946 += 10.440, std z2 = 466.88\n",
      " mean z3 =1613.180 += 1482.502, std z3 = 66299.50\n"
     ]
    }
   ],
   "source": [
    "N=51; a0 = 3; b0=0.0; eps0 = 3.01; mu0 = 1.0; mup0 = 0.5;tau0=0.0;phishift=0.0;\n",
    "db = 0.0\n",
    "dmu = 0.1\n",
    "dmup = 0.15\n",
    "nperiods =3\n",
    "parms0 = np.array([a0,b0,eps0,mu0,mup0])\n",
    "d_parms = np.array([0.0,db,0.0,dmu,dmup])\n",
    "Delta_parms0 = np.array([0.0,0.0,0.0,0.0,0.0])\n",
    "Delta_d_parms = np.array([0.0,0.1,0.0,0.5,0.0])  # varying drift rate in mu,b\n",
    "dtau = 0.0; dphi=0.0\n",
    "varlist = ['C']\n",
    "vr_b = drft_cls(N,parms0,d_parms,tau0,phishift,nperiods,Delta_parms0,Delta_d_parms,dtau,dphi,varlist,seed = 1366)\n",
    "Nu = 2000\n",
    "zlist_vb = vr_b.genzlist(Nu) \n",
    "vr_b.label = r'Dr$_1$'+r'$\\dot b\\dot\\mu$' "
   ]
  },
  {
   "cell_type": "code",
   "execution_count": 320,
   "id": "1a8a982f-7eb5-4320-87e6-3f490a5ac66d",
   "metadata": {},
   "outputs": [
    {
     "name": "stdout",
     "output_type": "stream",
     "text": [
      "endparms [3.         0.         3.01       2.88495559 3.32743339]\n",
      "endparms max [ 3.          6.28318531  3.01       12.30973355  3.32743339]\n",
      " mean z =1.023 += 0.023, std z = 1.01\n",
      " mean z2 =2.074 += 0.096, std z2 = 4.28\n",
      " mean z3 =6.104 += 0.459, std z3 = 20.55\n"
     ]
    }
   ],
   "source": [
    "# drifting variants\n",
    "N=51; a0 = 3; b0=0.0; eps0 = 3.01; mu0 = 1.0; mup0 = 0.5;tau0=0.0;phishift=0.0;\n",
    "db = 0.0\n",
    "dmu = 0.1\n",
    "dmup = 0.15\n",
    "nperiods =3\n",
    "parms0 = np.array([a0,b0,eps0,mu0,mup0])\n",
    "d_parms = np.array([0.0,db,0.0,dmu,dmup])\n",
    "Delta_parms0 = np.array([0.0,twopi,0.0,0.0,0.0])  # varying b0\n",
    "Delta_d_parms = np.array([0.0,0.0,0.0,0.5,0.0])  # varying drift rate in mu\n",
    "dtau = 0.0; dphi=0.0\n",
    "varlist = ['C']\n",
    "vr_a = drft_cls(N,parms0,d_parms,tau0,phishift,nperiods,Delta_parms0,Delta_d_parms,dtau,dphi,varlist,seed = 4)\n",
    "Nu = 2000\n",
    "zlist_va = vr_a.genzlist(Nu) # \n",
    "vr_a.label = r'Dr$_2$'+r'$b\\dot\\mu$' "
   ]
  },
  {
   "cell_type": "code",
   "execution_count": 315,
   "id": "d6b9bdf1-5d7a-4872-b302-e45273edf7f6",
   "metadata": {},
   "outputs": [
    {
     "name": "stdout",
     "output_type": "stream",
     "text": [
      "endparms [3.         0.         3.01       2.88495559 3.32743339]\n",
      "endparms max [ 3.          0.          3.01       12.30973355  3.32743339]\n",
      " mean z =0.997 += 0.023, std z = 1.01\n",
      " mean z2 =2.023 += 0.113, std z2 = 5.07\n",
      " mean z3 =6.530 += 0.764, std z3 = 34.18\n"
     ]
    }
   ],
   "source": [
    "N=51; a0 = 3; b0=0.0; eps0 = 3.01; mu0 = 1.0; mup0 = 0.5;tau0=0.0;phishift=0.0;\n",
    "db = 0.0\n",
    "dmu = 0.1\n",
    "dmup = 0.15\n",
    "nperiods =3\n",
    "parms0 = np.array([a0,b0,eps0,mu0,mup0])\n",
    "d_parms = np.array([0.0,db,0.0,dmu,dmup])\n",
    "Delta_parms0 = np.array([0.0,0.0,0.0,0.0,0.0])\n",
    "Delta_d_parms = np.array([0.0,0.0,0.0,0.5,0.0])  # varying drift rate in mu\n",
    "dtau = twopi; dphi=0.0                          # varying in tau\n",
    "varlist = ['C']\n",
    "vr_c2 = drft_cls(N,parms0,d_parms,tau0,phishift,nperiods,Delta_parms0,Delta_d_parms,dtau,dphi,varlist,seed = 30)\n",
    "Nu = 2000\n",
    "zlist_vc2 = vr_c2.genzlist(Nu) # \n",
    "vr_c2.label = r'Dr$_3$'+r'$\\tau\\dot\\mu$' "
   ]
  },
  {
   "cell_type": "code",
   "execution_count": 314,
   "id": "6c4a9e41-902c-4b0a-a259-70831a08b15c",
   "metadata": {},
   "outputs": [
    {
     "name": "stdout",
     "output_type": "stream",
     "text": [
      "endparms [3.         1.88495559 3.01       2.88495559 3.32743339]\n",
      "endparms max [ 3.          1.88495559  3.01       12.30973355  3.32743339]\n",
      " mean z =1.028 += 0.025, std z = 1.10\n",
      " mean z2 =2.259 += 0.165, std z2 = 7.37\n",
      " mean z3 =8.860 += 1.844, std z3 = 82.48\n"
     ]
    }
   ],
   "source": [
    "N=51; a0 = 3; b0=0.0; eps0 = 3.01; mu0 = 1.0; mup0 = 0.5;tau0=0.0;phishift=0.0;\n",
    "db = 0.1                                        # also drifting in b!\n",
    "dmu = 0.1\n",
    "dmup = 0.15\n",
    "nperiods =3\n",
    "parms0 = np.array([a0,b0,eps0,mu0,mup0])\n",
    "d_parms = np.array([0.0,db,0.0,dmu,dmup])\n",
    "Delta_parms0 = np.array([0.0,0.0,0.0,0.0,0.0])\n",
    "Delta_d_parms = np.array([0.0,0.0,0.0,0.5,0.0])  # varying drift rate in mu\n",
    "dtau = twopi; dphi=0.0                          # varying in tau\n",
    "varlist = ['C']\n",
    "vr_c = drft_cls(N,parms0,d_parms,tau0,phishift,nperiods,Delta_parms0,Delta_d_parms,dtau,dphi,varlist,seed = 51)\n",
    "Nu = 2000\n",
    "zlist_vc = vr_c.genzlist(Nu)  # \n",
    "vr_c.label = r'Dr$_4$'+r'$\\tau\\dot\\mu$' "
   ]
  },
  {
   "cell_type": "code",
   "execution_count": 313,
   "id": "1170961b-f71d-4e1b-92b0-0b35235bb875",
   "metadata": {},
   "outputs": [
    {
     "name": "stdout",
     "output_type": "stream",
     "text": [
      "endparms [3.         0.         3.01       2.88495559 3.32743339]\n",
      "endparms max [ 3.          0.          3.01       12.30973355 12.75221135]\n",
      " mean z =0.995 += 0.022, std z = 0.99\n",
      " mean z2 =1.961 += 0.094, std z2 = 4.22\n",
      " mean z3 =5.709 += 0.488, std z3 = 21.82\n"
     ]
    }
   ],
   "source": [
    "N=51; a0 = 3; b0=0.0; eps0 = 3.01; mu0 = 1.0; mup0 = 0.5;tau0=0.0;phishift=0.0;\n",
    "db = 0.0\n",
    "dmu = 0.1\n",
    "dmup = 0.15\n",
    "nperiods =3\n",
    "parms0  = np.array([a0 ,b0,eps0,mu0,mup0])\n",
    "d_parms = np.array([0.0,db,0.0,dmu,dmup])\n",
    "Delta_parms0 = np.array([0.0,0.0,0.0,0.0,0.0])\n",
    "Delta_d_parms= np.array([0.0,0.0,0.0,0.5,0.5])  # varying drift rate in mu, mup\n",
    "dtau = twopi; dphi=0.0                           # and varying in tau\n",
    "varlist = ['C']\n",
    "vr_d = drft_cls(N,parms0,d_parms,tau0,phishift,nperiods,Delta_parms0,Delta_d_parms,dtau,dphi,varlist,seed = 303)\n",
    "Nu = 2000\n",
    "zlist_vd = vr_d.genzlist(Nu) # \n",
    "vr_d.label = r'Dr$_5$'+r'$\\tau\\dot\\mu\\dot\\mu$' + '\\''"
   ]
  },
  {
   "cell_type": "code",
   "execution_count": 312,
   "id": "c4b84893-999b-48df-ae93-3a4541c99bcd",
   "metadata": {},
   "outputs": [
    {
     "name": "stdout",
     "output_type": "stream",
     "text": [
      "endparms [3.         0.         3.01       2.88495559 3.32743339]\n",
      "endparms max [ 3.          0.          3.51       12.30973355  3.32743339]\n",
      " mean z =6.182 += 1.969, std z = 88.04\n",
      " mean z2 =7789.799 += 4157.905, std z2 = 185947.17\n",
      " mean z3 =15719977.630 += 9729715.926, std z3 = 435126124.23\n"
     ]
    }
   ],
   "source": [
    "N=51; a0 = 3; b0=0.0; eps0 = 3.01; mu0 = 1.0; mup0 = 0.5;tau0=0.0;phishift=0.0;\n",
    "db = 0.0\n",
    "dmu = 0.1\n",
    "dmup = 0.15\n",
    "nperiods =3\n",
    "parms0 = np.array([a0,b0,eps0,mu0,mup0])\n",
    "d_parms = np.array([0.0,db,0.0,dmu,dmup])\n",
    "Delta_parms0 = np.array([0.0,0.0,0.5,0.0,0.0])  # random selection of eps\n",
    "Delta_d_parms = np.array([0.0,0.0,0.0,0.5,0.0])  # varying drift rate in mu\n",
    "dtau = 0.0; dphi=0.0  # \n",
    "varlist = ['C']\n",
    "vr_e = drft_cls(N,parms0,d_parms,tau0,phishift,nperiods,Delta_parms0,Delta_d_parms,dtau,dphi,varlist,seed = 301)\n",
    "Nu = 2000\n",
    "zlist_ve = vr_e.genzlist(Nu)   # vr_e.label = 'Dr' not used!"
   ]
  },
  {
   "cell_type": "code",
   "execution_count": 270,
   "id": "f1e54d96-bfd3-45aa-8b28-cb235c041358",
   "metadata": {},
   "outputs": [
    {
     "name": "stdout",
     "output_type": "stream",
     "text": [
      "endparms [3.         0.         2.01       2.88495559 3.32743339]\n",
      "endparms max [ 3.          0.          3.89495559 12.30973355  3.32743339]\n",
      " mean z =2.333 += 0.833, std z = 26.36\n",
      " mean z2 =700.045 += 678.427, std z2 = 21453.76\n",
      " mean z3 =560378.347 += 558885.099, std z3 = 17673498.63\n"
     ]
    }
   ],
   "source": [
    "N=51; a0 = 3; b0=0.0; eps0 = 2.01; mu0 = 1.0; mup0 = 0.5;tau0=0.0;phishift=0.0;  # notice lower eps0\n",
    "db = 0.0\n",
    "dmu = 0.1\n",
    "dmup = 0.15\n",
    "nperiods =3\n",
    "parms0 = np.array([a0,b0,eps0,mu0,mup0])\n",
    "d_parms = np.array([0.0,db,0.0,dmu,dmup])\n",
    "Delta_parms0 = np.array([0.0,0.0,0.0,0.0,0.0])  \n",
    "Delta_d_parms = np.array([0.0,0.0,0.1,0.5,0.0])  # varying drift rate in mu,eps0\n",
    "dtau = 0.0; dphi=0.0  # \n",
    "varlist = ['C']\n",
    "vr_f = drft_cls(N,parms0,d_parms,tau0,phishift,nperiods,Delta_parms0,Delta_d_parms,dtau,dphi,varlist,seed = 9901)\n",
    "Nu = 1000\n",
    "zlist_vf = vr_f.genzlist(Nu)    # vr_f.label = 'Dr' not used!"
   ]
  },
  {
   "cell_type": "code",
   "execution_count": 373,
   "id": "de076934-2d98-4ad6-b626-3301ceeacf76",
   "metadata": {},
   "outputs": [],
   "source": [
    "if (1==2):\n",
    "    vr_b.label = r'Dr$_1$'+r'$\\dot b\\dot\\mu$' \n",
    "    vr_a.label = r'Dr$_2$'+r'$b\\dot\\mu$' \n",
    "    vr_c2.label = r'Dr$_3$'+r'$\\tau\\dot\\mu$' \n",
    "    vr_c.label = r'Dr$_4$'+r'$\\tau\\dot\\mu$' \n",
    "    vr_d.label = r'Dr$_5$'+r'$\\tau\\dot\\mu\\dot\\mu$' + '\\''"
   ]
  },
  {
   "cell_type": "code",
   "execution_count": 377,
   "id": "57c61c00-b16d-4274-b72f-426d3c4e60f3",
   "metadata": {},
   "outputs": [
    {
     "name": "stdout",
     "output_type": "stream",
     "text": [
      "frame potentials Dr set\n",
      "Dr$_1$$\\dot b\\dot\\mu$  & 1.26 $\\pm$ 0.08 &  15.95 $\\pm$ 10.44 &  1613.18 $\\pm$ 1482.50 \\\\ \n",
      "Dr$_2$$b\\dot\\mu$  & 1.02 $\\pm$ 0.02 &  2.07 $\\pm$ 0.10 &  6.10 $\\pm$ 0.46 \\\\ \n",
      "Dr$_3$$\\tau\\dot\\mu$  & 1.00 $\\pm$ 0.02 &  2.02 $\\pm$ 0.11 &  6.53 $\\pm$ 0.76 \\\\ \n",
      "Dr$_4$$\\tau\\dot\\mu$  & 1.03 $\\pm$ 0.02 &  2.26 $\\pm$ 0.16 &  8.86 $\\pm$ 1.84 \\\\ \n",
      "Dr$_5$$\\tau\\dot\\mu\\dot\\mu$'  & 1.00 $\\pm$ 0.02 &  1.96 $\\pm$ 0.09 &  5.71 $\\pm$ 0.49 \\\\ \n",
      "\n",
      "varepsilon estimate\n",
      "Dr$_5$$\\tau\\dot\\mu\\dot\\mu$' & 0.15 & 0.31 & 0.70\n"
     ]
    }
   ],
   "source": [
    "nruns_vr = 5\n",
    "mm_large_vr = np.zeros((nruns_vr,3))\n",
    "stde_large_vr = np.zeros((nruns_vr,3))\n",
    "i=0\n",
    "mm_large_vr[i,:] =vr_b.mms; stde_large_vr[i,:] = vr_b.std_errs; i+=1\n",
    "mm_large_vr[i,:] =vr_a.mms; stde_large_vr[i,:] = vr_a.std_errs; i+=1\n",
    "mm_large_vr[i,:] =vr_c2.mms; stde_large_vr[i,:] = vr_c2.std_errs; i+=1\n",
    "mm_large_vr[i,:] =vr_c.mms; stde_large_vr[i,:] = vr_c.std_errs; i+=1\n",
    "mm_large_vr[i,:] =vr_d.mms; stde_large_vr[i,:] = vr_d.std_errs; i+=1\n",
    "dotb = r'$\\dot b$'\n",
    "dotmu = r'$\\dot \\mu$'\n",
    "dotmup = r'$\\dot \\mu$' + '\\''\n",
    "labels_vr = [ vr_b.label, vr_a.label, vr_c2.label, vr_c.label, vr_d.label]\n",
    "#labels_vr = [r'Dr$_1$'+dotb+dotmu, \\\n",
    "#             r'Dr$_2$'+'$b$'+ dotmu,\\\n",
    "#             r'Dr$_3$' + r'$\\tau$'+dotmu, \\\n",
    "#             r'Dr$_4$' + r'$\\tau$'+dotmu,\\\n",
    "#             r'Dr$_5$' + r'$\\tau$'+dotmu + dotmup, \\\n",
    "#             r'Dr$_6$'        ]\n",
    "\n",
    "print('frame potentials Dr set')\n",
    "for i in range(nruns_vr):\n",
    "    print(labels_vr[i], ' & {:.2f} $\\\\pm$ {:.2f} &  {:.2f} $\\\\pm$ {:.2f} &  {:.2f} $\\\\pm$ {:.2f} \\\\\\\\ '.format(\\\n",
    "        mm_large_vr[i,0],stde_large_vr[i,0], \\\n",
    "        mm_large_vr[i,1],stde_large_vr[i,1],\\\n",
    "        mm_large_vr[i,2],stde_large_vr[i,2]))\n",
    "\n",
    "print('')\n",
    "print('varepsilon estimate')\n",
    "# varepilon estimates \n",
    "i=nruns_vr-1\n",
    "print(labels_vr[i],'& {:.2f} & {:.2f} & {:.2f}'.format( \\\n",
    "    np.sqrt(stde_large_vr[i,0]),np.sqrt(stde_large_vr[i,1]), np.sqrt(stde_large_vr[i,2])))"
   ]
  },
  {
   "cell_type": "code",
   "execution_count": 375,
   "id": "e9f69758-bea7-47c6-8b2a-3c4b2dc84eae",
   "metadata": {},
   "outputs": [
    {
     "data": {
      "image/png": "[encoded data removed]",
      "text/plain": [
       "<Figure size 900x900 with 3 Axes>"
      ]
     },
     "metadata": {},
     "output_type": "display_data"
    }
   ],
   "source": [
    "fig,axarr = plt.subplots(3,1,sharex=True,figsize=(3,3),dpi=300)\n",
    "plt.subplots_adjust(wspace=0,hspace=0,bottom=0.15,top=0.98,left=0.17,right=0.98)\n",
    "karr = np.arange(nruns_vr)\n",
    "j=0 \n",
    "yvals = np.squeeze( mm_large_vr[:,j])\n",
    "yerrs = np.squeeze( stde_large_vr[:,j])\n",
    "axarr[j].errorbar(karr,yvals,yerr = yerrs,capsize=2.3,fmt='o',ms=3,color='blue')\n",
    "for j in range(1,3):\n",
    "    yvals = np.squeeze( mm_large_vr[:,j])\n",
    "    ylvals = np.log10(yvals)\n",
    "    yerrs = np.squeeze( stde_large_vr[:,j])\n",
    "    yuvals = yvals + yerrs\n",
    "    ybvals = yvals - yerrs\n",
    "    ylu = np.log10(yuvals)\n",
    "    ylb = np.log10(ybvals)\n",
    "    yerr_up = ylu - ylvals \n",
    "    yerr_down = ylvals - ylb\n",
    "    axarr[j].errorbar(karr,ylvals,yerr = [yerr_up,yerr_down],capsize=2.3,fmt='o',ms=3,color='blue')\n",
    "\n",
    "axarr[1].set_ylim([0.2,1.03])\n",
    "axarr[1].annotate(\"\", xytext=(0, 0.85), xy=(0.0, 1.01), arrowprops=dict(arrowstyle=\"->\",ec='blue'))\n",
    "#axarr[1].annotate(\"\", xytext=(1, 0.85), xy=(1.0, 1.01), arrowprops=dict(arrowstyle=\"->\",ec='blue'))\n",
    "axarr[2].set_ylim([0.6,2.25])\n",
    "axarr[2].annotate(\"\", xytext=(0, 1.92), xy=(0.0, 2.23), arrowprops=dict(arrowstyle=\"->\",ec='blue'))\n",
    "#axarr[2].annotate(\"\", xytext=(1, 1.92), xy=(1.0, 2.23), arrowprops=dict(arrowstyle=\"->\",ec='blue'))\n",
    "xmin,xmax = axarr[0].get_xlim()\n",
    "axarr[0].plot([xmin,xmax],[1,1],'r:')\n",
    "axarr[1].plot([xmin,xmax],[np.log10(2.),np.log10(2.)],'r:')\n",
    "axarr[2].plot([xmin,xmax],[np.log10(6.),np.log10(6.)],'r:')\n",
    "axarr[2].tick_params(axis='x', which='major', pad=1)\n",
    "axarr[2].set_xticks(karr,labels_vr[0:nruns_vr],rotation=-40)   \n",
    "axarr[0].set_ylabel(r'${\\mathcal F}^{(1)}$',labelpad=0.1)\n",
    "axarr[1].set_ylabel(r'log$_{10}{\\mathcal F}^{(2)}$',labelpad=1)\n",
    "axarr[2].set_ylabel(r'log$_{10}{\\mathcal F}^{(3)}$')\n",
    "axarr[0].annotate('Haar',xytext=(0,1.02),xy=(0,1),color='red',fontsize=10)\n",
    "plt.savefig(froot+'fp_var.png')\n",
    "plt.show()"
   ]
  },
  {
   "cell_type": "code",
   "execution_count": 416,
   "id": "182626fd-4f69-407c-baa8-bd3660d6edcd",
   "metadata": {},
   "outputs": [
    {
     "data": {
      "image/png": "[encoded data removed]",
      "text/plain": [
       "<Figure size 960x900 with 1 Axes>"
      ]
     },
     "metadata": {},
     "output_type": "display_data"
    }
   ],
   "source": [
    "def pltnzhist(zlist_list,labels,xmax,histtypes,ofile):\n",
    "    #xmax = 10\n",
    "    fig,ax = plt.subplots(1,1,figsize=(3.2,3.0),dpi=300)\n",
    "    plt.subplots_adjust(hspace=0,wspace=0,left=0.15,right=0.98,top=0.98,bottom =0.15)\n",
    "    ax.set_xlim([-0.05,xmax*0.99])\n",
    "\n",
    "    style1 = {'facecolor': 'red',  'edgecolor': 'red', 'linewidth': 1.5, 'linestyle':'solid'}\n",
    "    style2 = {'facecolor': 'green', 'edgecolor': 'green', 'linewidth': 1, 'linestyle':'solid'}\n",
    "    style3 = {'facecolor': 'violet', 'edgecolor': 'violet', 'linewidth': 1.5, 'linestyle':'solid'}\n",
    "    style4 = {'facecolor': 'cyan',  'edgecolor': 'cyan', 'linewidth': 2.5, 'linestyle':'dotted'}\n",
    "    stylelist = [ style1, style2, style3, style4 ] \n",
    "    for k in range(len(zlist_list)):\n",
    "        zlist = zlist_list[k]\n",
    "        bins_arr  = mkbinsarr(0,xmax,100,np.max(zlist))\n",
    "        style = stylelist[k]\n",
    "        ax.hist(zlist   ,bins=bins_arr,density=True,alpha=0.8,cumulative=True,histtype=histtypes[k],**style,label = labels[k])\n",
    "    first_legend = ax.legend(borderpad=0.25,handlelength=1.2,handletextpad=0.25,fontsize=15,labelspacing=0.2,framealpha=1)\n",
    "    ax.add_artist(first_legend)\n",
    "\n",
    "    xarr = np.linspace(0,xmax,100)\n",
    "    yarr = 1 - np.exp(-xarr)\n",
    "    ylabel = r'1-$e^{-x}$'\n",
    "    handles = []\n",
    "    llw, = ax.plot(xarr,yarr,'k-',lw=0.5,alpha=0.7,label=ylabel)\n",
    "    handles.append(llw)\n",
    "    second_legend = ax.legend(handles = handles, borderpad=0.25,handlelength=0.8,handletextpad=0.25,fontsize=15,labelspacing=0.05,\\\n",
    "                         loc = 'center right')\n",
    "    ax.set_ylabel('cumulative histogram',fontsize=14,labelpad=2)\n",
    "    xlab = r'$|$tr$ \\hat U \\hat V^\\dagger|^2$, ' + r'$\\hat U,\\hat V$ sampled'\n",
    "    ax.set_xlabel(xlab,fontsize=14,labelpad=1)\n",
    "    if (len(ofile)>3):\n",
    "        plt.savefig(ofile)\n",
    "\n",
    "    plt.show()\n",
    "\n",
    "#plt1zhist(zlist)\n",
    "#print_parr(parr,N)\n",
    "zlist_list = [zlist_f, zlist_vd]\n",
    "label_f = r'C$_1b\\tau\\mu$' + muprime\n",
    "label_ve = r'Dr$_5$' + r'$\\tau$'+dotmu + dotmup\n",
    "labels = [label_f,label_ve]\n",
    "ofile = froot + 'cufps.png'\n",
    "histtypes = ['step', 'stepfilled']\n",
    "pltnzhist(zlist_list,labels,xmax,histtypes,ofile)\n"
   ]
  },
  {
   "cell_type": "code",
   "execution_count": null,
   "id": "d03fa98d-33c7-4380-8f26-e0e07fbb70c4",
   "metadata": {},
   "outputs": [],
   "source": []
  }
 ],
 "metadata": {
  "kernelspec": {
   "display_name": "Python 3 (ipykernel)",
   "language": "python",
   "name": "python3"
  },
  "language_info": {
   "codemirror_mode": {
    "name": "ipython",
    "version": 3
   },
   "file_extension": ".py",
   "mimetype": "text/x-python",
   "name": "python",
   "nbconvert_exporter": "python",
   "pygments_lexer": "ipython3",
   "version": "3.13.5"
  }
 },
 "nbformat": 4,
 "nbformat_minor": 5
}
